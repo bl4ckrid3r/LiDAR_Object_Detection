{
 "cells": [
  {
   "cell_type": "code",
   "execution_count": 1,
   "metadata": {},
   "outputs": [],
   "source": [
    "import pptk\n",
    "from numpy.linalg import norm\n",
    "import numpy as np\n",
    "import pcl\n",
    "import matplotlib.pyplot as plt\n",
    "from scipy.stats import linregress\n",
    "from scipy.spatial import ConvexHull\n",
    "from matplotlib.path import Path\n",
    "from sklearn.linear_model import RANSACRegressor"
   ]
  },
  {
   "cell_type": "code",
   "execution_count": 2,
   "metadata": {},
   "outputs": [],
   "source": [
    "from sklearn.cluster import DBSCAN"
   ]
  },
  {
   "cell_type": "code",
   "execution_count": 3,
   "metadata": {},
   "outputs": [],
   "source": [
    "def link(p1,p2, link_intensity):\n",
    "    return np.linspace(p1, p2, num=int(norm(p1-p2)*link_intensity))"
   ]
  },
  {
   "cell_type": "code",
   "execution_count": 4,
   "metadata": {},
   "outputs": [],
   "source": [
    "def convex_hull(pcl, intensity=150):\n",
    "    \n",
    "    hull = ConvexHull(pcl[:,:2])\n",
    "    hull_path = Path( pcl[:,:2][hull.vertices] )\n",
    "    results = np.vstack(hull_path.to_polygons())[:-1]\n",
    "    n = results.shape[0]\n",
    "    \n",
    "    z_min, z_max = pcl[:,2].min(), pcl[:,2].max()\n",
    "    down_points = np.hstack((results, z_min*np.ones(shape=(n,1))))\n",
    "    up_points = np.hstack((results, z_max*np.ones(shape=(n,1))))\n",
    "    \n",
    "    box = np.zeros((0,3))\n",
    "\n",
    "    for k in range(n):\n",
    "        box = np.vstack((box, link(down_points[k%n], down_points[(k+1)%n], link_intensity=intensity)))\n",
    "    for k in range(n):\n",
    "        box = np.vstack((box, link(up_points[k%n], up_points[(k+1)%n], link_intensity=intensity)))\n",
    "    for k in range(n):\n",
    "        box = np.vstack((box, link(down_points[k%n], up_points[k%n], link_intensity=intensity)))\n",
    "    \n",
    "    return box"
   ]
  },
  {
   "cell_type": "code",
   "execution_count": 5,
   "metadata": {},
   "outputs": [],
   "source": [
    "def load_from_bin(bin_path):\n",
    "    obj = np.fromfile(bin_path, dtype=np.float32).reshape(-1, 4)\n",
    "    return obj[:,:3]"
   ]
  },
  {
   "cell_type": "code",
   "execution_count": 206,
   "metadata": {},
   "outputs": [],
   "source": [
    "outer_radius = 50\n",
    "inner_radius = 2.74\n",
    "\n",
    "p = pcl.load(\"data_1/0000000011.pcd\")\n",
    "#coords = load_from_bin('data_3/0000000001.bin')#p.to_array()\n",
    "coords = p.to_array()#load_from_bin('data_3/uu_000097.bin')#\n",
    "coords = coords[(norm(coords[:,:2], axis=1)<=outer_radius)]\n",
    "coords = coords[(norm(coords, axis=1)>inner_radius)]\n",
    "x, y, z = coords[:,0], coords[:,1], coords[:,2]"
   ]
  },
  {
   "cell_type": "code",
   "execution_count": 207,
   "metadata": {},
   "outputs": [],
   "source": [
    "ptf = coords[z<-1.3]\n",
    "\n",
    "reg = RANSACRegressor()\n",
    "reg.fit(ptf[:,:2],ptf[:,2])\n",
    "\n",
    "preds = (reg.predict(ptf[:,:2])-ptf[:,2])\n",
    "std_z = preds.std()\n",
    "mean_z = reg.predict(ptf[:,:2]).mean()"
   ]
  },
  {
   "cell_type": "code",
   "execution_count": 208,
   "metadata": {},
   "outputs": [
    {
     "name": "stdout",
     "output_type": "stream",
     "text": [
      "CPU times: user 2 µs, sys: 0 ns, total: 2 µs\n",
      "Wall time: 4.53 µs\n"
     ]
    }
   ],
   "source": [
    "%time\n",
    "to_cluster = coords[z>mean_z+1.9*std_z]\n",
    "clst = DBSCAN(eps=0.3)\n",
    "clst.fit(to_cluster)\n",
    "\n",
    "clst_labels = clst.labels_\n",
    "labels, counts = np.unique(clst_labels, return_counts=True)\n",
    "\n",
    "to_cluster = to_cluster[np.isin(clst_labels, labels[counts>2])]\n",
    "clst_labels = clst_labels[np.isin(clst_labels, labels[counts>2])]\n",
    "\n",
    "bhulls = np.vstack([convex_hull(to_cluster[clst_labels==k], intensity=50) for k in np.unique(clst_labels)[1:]])\n",
    "to_cluster = np.vstack((to_cluster, bhulls))\n",
    "\n",
    "bhull_color = int(np.quantile(np.unique(clst_labels)[1:], .50))\n",
    "clst_labels = np.hstack((clst_labels, bhull_color*np.ones(bhulls.shape[0])))"
   ]
  },
  {
   "cell_type": "code",
   "execution_count": 212,
   "metadata": {},
   "outputs": [],
   "source": [
    "v = pptk.viewer(to_cluster, clst_labels)#, pptk.points(preds))\n",
    "v.set(lookat=[0,0,0])\n",
    "v.set(phi=np.pi, theta=np.pi/2, r=outer_radius)"
   ]
  }
 ],
 "metadata": {
  "kernelspec": {
   "display_name": "Python 3",
   "language": "python",
   "name": "python3"
  },
  "language_info": {
   "codemirror_mode": {
    "name": "ipython",
    "version": 3
   },
   "file_extension": ".py",
   "mimetype": "text/x-python",
   "name": "python",
   "nbconvert_exporter": "python",
   "pygments_lexer": "ipython3",
   "version": "3.7.3"
  }
 },
 "nbformat": 4,
 "nbformat_minor": 4
}
