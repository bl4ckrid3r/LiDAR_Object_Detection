{
 "cells": [
  {
   "cell_type": "code",
   "execution_count": 1,
   "metadata": {},
   "outputs": [],
   "source": [
    "import pptk\n",
    "from numpy.linalg import norm\n",
    "import numpy as np\n",
    "import pcl\n",
    "import matplotlib.pyplot as plt\n",
    "from scipy.stats import linregress\n",
    "from scipy.spatial import ConvexHull\n",
    "from matplotlib.path import Path\n",
    "from sklearn.linear_model import RANSACRegressor"
   ]
  },
  {
   "cell_type": "code",
   "execution_count": 2,
   "metadata": {},
   "outputs": [],
   "source": [
    "from sklearn.cluster import DBSCAN"
   ]
  },
  {
   "cell_type": "code",
   "execution_count": 3,
   "metadata": {},
   "outputs": [],
   "source": [
    "def link(p1,p2, link_intensity):\n",
    "    return np.linspace(p1, p2, num=int(norm(p1-p2)*link_intensity))"
   ]
  },
  {
   "cell_type": "code",
   "execution_count": 4,
   "metadata": {},
   "outputs": [],
   "source": [
    "def convex_hull(pcl, intensity=150):\n",
    "    \n",
    "    hull = ConvexHull(pcl[:,:2])\n",
    "    hull_path = Path( pcl[:,:2][hull.vertices] )\n",
    "    results = np.vstack(hull_path.to_polygons())[:-1]\n",
    "    n = results.shape[0]\n",
    "    \n",
    "    z_min, z_max = pcl[:,2].min(), pcl[:,2].max()\n",
    "    down_points = np.hstack((results, z_min*np.ones(shape=(n,1))))\n",
    "    up_points = np.hstack((results, z_max*np.ones(shape=(n,1))))\n",
    "    \n",
    "    box = np.zeros((0,3))\n",
    "\n",
    "    for k in range(n):\n",
    "        box = np.vstack((box, link(down_points[k%n], down_points[(k+1)%n], link_intensity=intensity)))\n",
    "    for k in range(n):\n",
    "        box = np.vstack((box, link(up_points[k%n], up_points[(k+1)%n], link_intensity=intensity)))\n",
    "    for k in range(n):\n",
    "        box = np.vstack((box, link(down_points[k%n], up_points[k%n], link_intensity=intensity)))\n",
    "    \n",
    "    return box"
   ]
  },
  {
   "cell_type": "code",
   "execution_count": 5,
   "metadata": {},
   "outputs": [],
   "source": [
    "def load_from_bin(bin_path):\n",
    "    obj = np.fromfile(bin_path, dtype=np.float32).reshape(-1, 4)\n",
    "    return obj[:,:3]"
   ]
  },
  {
   "cell_type": "code",
   "execution_count": 6,
   "metadata": {},
   "outputs": [],
   "source": [
    "def process(pcl):\n",
    "    outer_radius = 50\n",
    "    inner_radius = 2.74\n",
    "    \n",
    "    coords = pcl.to_array()\n",
    "    coords = coords[(norm(coords[:,:2], axis=1)<=outer_radius)]\n",
    "    coords = coords[(norm(coords, axis=1)>inner_radius)]\n",
    "    x, y, z = coords[:,0], coords[:,1], coords[:,2]\n",
    "    \n",
    "    ptf = coords[z<-1.3]\n",
    "    reg = RANSACRegressor()\n",
    "    reg.fit(ptf[:,:2],ptf[:,2])\n",
    "    preds = (reg.predict(ptf[:,:2])-ptf[:,2])\n",
    "    std_z = preds.std()\n",
    "    mean_z = reg.predict(ptf[:,:2]).mean()\n",
    "    \n",
    "    to_cluster = coords[z>mean_z+1.9*std_z]\n",
    "    clst = DBSCAN(eps=0.3)\n",
    "    clst.fit(to_cluster)\n",
    "    clst_labels = clst.labels_\n",
    "    labels, counts = np.unique(clst_labels, return_counts=True)\n",
    "    \n",
    "    to_cluster = to_cluster[np.isin(clst_labels, labels[counts>2])]\n",
    "    clst_labels = clst_labels[np.isin(clst_labels, labels[counts>2])]\n",
    "    \n",
    "    bhulls = np.vstack([convex_hull(to_cluster[clst_labels==k], intensity=50) for k in np.unique(clst_labels)[1:]])\n",
    "    to_cluster = np.vstack((to_cluster, bhulls))\n",
    "    bhull_color = int(np.quantile(np.unique(clst_labels)[1:], .50))\n",
    "    clst_labels = np.hstack((clst_labels, bhull_color*np.ones(bhulls.shape[0])))\n",
    "    \n",
    "    return to_cluster, clst_labels"
   ]
  },
  {
   "cell_type": "code",
   "execution_count": 36,
   "metadata": {},
   "outputs": [
    {
     "name": "stdout",
     "output_type": "stream",
     "text": [
      "CPU times: user 10 µs, sys: 0 ns, total: 10 µs\n",
      "Wall time: 18.1 µs\n"
     ]
    }
   ],
   "source": [
    "%time\n",
    "import glob\n",
    "lidar_points = glob.glob('data_2/*.pcd')\n",
    "for i,p in enumerate(sorted(lidar_points)[87:]):\n",
    "    pcd = pcl.load(p)\n",
    "    v = pptk.viewer(*process(pcd))\n",
    "    v.set(lookat=[0,0,0])\n",
    "    v.set(phi=np.pi, theta=np.pi/2, r=50)\n",
    "    v.capture('output/%d.png'%(i+87))"
   ]
  },
  {
   "cell_type": "code",
   "execution_count": 8,
   "metadata": {},
   "outputs": [],
   "source": [
    "i = 30\n",
    "pcd = pcl.load('data_2/00000000%d.pcd'%i)\n",
    "v = pptk.viewer(*process(pcd))\n",
    "v.set(lookat=[0,0,0])\n",
    "v.set(phi=np.pi, theta=np.pi/2, r=50)\n",
    "v.capture('output/%d.png'%(i))"
   ]
  },
  {
   "cell_type": "code",
   "execution_count": 33,
   "metadata": {},
   "outputs": [
    {
     "name": "stdout",
     "output_type": "stream",
     "text": [
      "Wall time: 3.854762\n"
     ]
    }
   ],
   "source": [
    "from time import clock\n",
    "t1 = time.perf_counter()\n",
    "for k in range(10):\n",
    "    process(pcd)\n",
    "t2 = time.perf_counter() - t1\n",
    "\n",
    "print('Wall time: %f'%(t2/10))"
   ]
  },
  {
   "cell_type": "code",
   "execution_count": 32,
   "metadata": {},
   "outputs": [],
   "source": [
    "import numpy as np\n",
    "import glob\n",
    "import sys\n",
    "sys.path.remove(sys.path[2])\n",
    "import cv2"
   ]
  },
  {
   "cell_type": "code",
   "execution_count": 57,
   "metadata": {},
   "outputs": [],
   "source": [
    "import os\n",
    "img_array = []\n",
    "for filename in sorted(glob.glob('output/*.png'), key=os.path.getmtime):\n",
    "    img = cv2.imread(filename)\n",
    "    height, width, layers = img.shape\n",
    "    size = (width,height)\n",
    "    img_array.append(img)"
   ]
  },
  {
   "cell_type": "code",
   "execution_count": 58,
   "metadata": {},
   "outputs": [],
   "source": [
    "out = cv2.VideoWriter('project.avi',cv2.VideoWriter_fourcc(*'DIVX'), 15, size)\n",
    " \n",
    "for i in range(len(img_array)):\n",
    "    out.write(img_array[i])\n",
    "out.release()"
   ]
  }
 ],
 "metadata": {
  "kernelspec": {
   "display_name": "Python 3",
   "language": "python",
   "name": "python3"
  },
  "language_info": {
   "codemirror_mode": {
    "name": "ipython",
    "version": 3
   },
   "file_extension": ".py",
   "mimetype": "text/x-python",
   "name": "python",
   "nbconvert_exporter": "python",
   "pygments_lexer": "ipython3",
   "version": "3.7.3"
  }
 },
 "nbformat": 4,
 "nbformat_minor": 4
}
